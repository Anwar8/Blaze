{
 "cells": [
  {
   "cell_type": "code",
   "execution_count": 43,
   "metadata": {},
   "outputs": [],
   "source": [
    "import numpy as np"
   ]
  },
  {
   "cell_type": "code",
   "execution_count": 44,
   "metadata": {},
   "outputs": [],
   "source": [
    "s = 0\n",
    "F = 1e3\n",
    "\n",
    "c = 1 - abs(s)\n",
    "L = 5\n",
    "EI = 1e5\n",
    "EA = 1e4\n",
    "\n",
    "g1 = 2*c*s/(L*L)\n",
    "g2 = (c*c - s*s)/(L*L)\n",
    "g3 = c*c/L\n",
    "g4 = c*s/L\n",
    "g5 = s*s/L"
   ]
  },
  {
   "cell_type": "code",
   "execution_count": 45,
   "metadata": {},
   "outputs": [
    {
     "name": "stdout",
     "output_type": "stream",
     "text": [
      "K_ex = \n",
      "[[ 0.    0.08  0.    0.   -0.08  0.  ]\n",
      " [ 0.08  0.2   0.   -0.08 -0.2   0.  ]\n",
      " [ 0.    0.    0.    0.    0.    0.  ]\n",
      " [ 0.    0.08  0.    0.    0.08  0.  ]\n",
      " [-0.08 -0.2   0.    0.08  0.2   0.  ]\n",
      " [ 0.    0.    0.    0.    0.    0.  ]]\n",
      "T = \n",
      " [[ 0.   0.2  1.   0.  -0.2  0. ]\n",
      " [ 0.   0.2  0.   0.   0.2  1. ]\n",
      " [ 1.   0.   0.   1.   0.   0. ]]\n",
      "k_t = \n",
      " [[80666.66666667 39833.33333333     0.        ]\n",
      " [39833.33333333 80666.66666667     0.        ]\n",
      " [    0.             0.          2000.        ]]\n"
     ]
    }
   ],
   "source": [
    "K_ex = np.array([[g5 - 2*g1, 2*g2 - g4, 0, 2*g1 - g5, g4 - 2*g2, 0], \n",
    "                 [2*g2 - g4, 2*g1 + g3, 0, -2*g2 + g4, -2*g1 - g3, 0],\n",
    "                 [0, 0, 0, 0, 0, 0], \n",
    "                 [2*g1 - g5, 2*g2 + g4, 0, 2*g1 + g5, 2*g2-g4, 0], \n",
    "                 [g4 - 2*g2, -g3 - 2*g1, 0, 2*g2-g4, 2*g1 + g3, 0], \n",
    "                 [0, 0, 0, 0, 0, 0]])\n",
    "\n",
    "T = np.array([[-s/L, c/L, 1, s/L, -c/L, 0], [-s/L, c/L, 0, s/L, c/L, 1], [c, s, 0, c, s, 0]])\n",
    "k_t = (1/L)*np.array([[4*EI, 2*EI, 0], [2*EI, 4*EI, 0], [0, 0, EA]]) + (F*L/30)*np.array([[4, -1, 0],[-1, 4, 0],[0, 0, 0]])\n",
    "\n",
    "print(f\"K_ex = \\n{K_ex}\")\n",
    "print(f\"T = \\n {T}\")\n",
    "print(f\"k_t = \\n {k_t}\")"
   ]
  },
  {
   "cell_type": "code",
   "execution_count": 46,
   "metadata": {},
   "outputs": [
    {
     "name": "stdout",
     "output_type": "stream",
     "text": [
      "total_contribution = \n",
      " [[ 2.00000000e+03  8.00000000e-02  0.00000000e+00  2.00000000e+03\n",
      "  -8.00000000e-02  0.00000000e+00]\n",
      " [ 8.00000000e-02  9.64020000e+03  2.41000000e+04 -8.00000000e-02\n",
      "  -2.00000000e-01  2.41000000e+04]\n",
      " [ 0.00000000e+00  2.41000000e+04  8.06666667e+04  0.00000000e+00\n",
      "  -8.16666667e+03  3.98333333e+04]\n",
      " [ 2.00000000e+03  8.00000000e-02  0.00000000e+00  2.00000000e+03\n",
      "   8.00000000e-02  0.00000000e+00]\n",
      " [-8.00000000e-02 -2.00000000e-01 -8.16666667e+03  8.00000000e-02\n",
      "   3.26686667e+03  8.16666667e+03]\n",
      " [ 0.00000000e+00  2.41000000e+04  3.98333333e+04  0.00000000e+00\n",
      "   8.16666667e+03  8.06666667e+04]]\n",
      "total_contribution has shape of: (6, 6), for a total of 36 elements out of which 28 are nonzero\n"
     ]
    }
   ],
   "source": [
    "total_contribution = T.transpose() @ k_t @ T  + K_ex\n",
    "print(f\"total_contribution = \\n {total_contribution}\")\n",
    "print(f\"total_contribution has shape of: {total_contribution.shape}, for a total of {total_contribution.size} elements out of which {np.count_nonzero(total_contribution)} are nonzero\")"
   ]
  },
  {
   "cell_type": "code",
   "execution_count": null,
   "metadata": {},
   "outputs": [],
   "source": []
  }
 ],
 "metadata": {
  "kernelspec": {
   "display_name": "I2DS",
   "language": "python",
   "name": "python3"
  },
  "language_info": {
   "codemirror_mode": {
    "name": "ipython",
    "version": 3
   },
   "file_extension": ".py",
   "mimetype": "text/x-python",
   "name": "python",
   "nbconvert_exporter": "python",
   "pygments_lexer": "ipython3",
   "version": "3.9.16"
  }
 },
 "nbformat": 4,
 "nbformat_minor": 2
}
